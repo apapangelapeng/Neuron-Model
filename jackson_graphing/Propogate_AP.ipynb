{
 "cells": [
  {
   "cell_type": "code",
   "execution_count": null,
   "metadata": {},
   "outputs": [],
   "source": [
    "import pandas as pd\n",
    "import numpy as np\n",
    "import matplotlib.pyplot as plt\n",
    "import matplotlib.patches as mpatches\n",
    "color_list =[\"#3eb991\",\"#e9a820\",\"#e01563\",\"#edb196\",\"#6ecadc\",\"#1f94ac\",\"#ae9a6a\",\"#ccb8a6\",\"#343a44\"]\n"
   ]
  },
  {
   "attachments": {},
   "cell_type": "markdown",
   "metadata": {},
   "source": [
    "# Graphing definition"
   ]
  },
  {
   "cell_type": "code",
   "execution_count": null,
   "metadata": {},
   "outputs": [],
   "source": [
    "def graph_df(data_frame:pd.DataFrame,begin_index=0,end_index=None):\n",
    "    if end_index:\n",
    "        column_name =list(data_frame.columns )[begin_index:end_index]\n",
    "    else:\n",
    "        column_name =list(data_frame.columns )[begin_index:]\n",
    "    fig, ax = plt.subplots()\n",
    "    x = np.arange(0, len(data_frame), step=1)\n",
    "\n",
    "    for i in range(len(column_name)):\n",
    "        label = column_name[i]\n",
    "        #ax.scatter(x,test_output[label],color = color_list[i])\n",
    "        ax.plot(x,data_frame[label],color = color_list[i])\n",
    "        \n",
    "    colorlist = zip(column_name,color_list)\n",
    "    handles = [mpatches.Patch(color=colour, label=column_name) for label, colour in colorlist]\n",
    "    t = \",\".join(column_name)\n",
    "    plt.legend(handles, column_name, ncol=1, bbox_to_anchor=(1, 1))\n",
    "    plt.plot()\n",
    "    ax.set_title(t)\n",
    "    plt.tight_layout()"
   ]
  },
  {
   "attachments": {},
   "cell_type": "markdown",
   "metadata": {},
   "source": [
    "# Graphing Propogation"
   ]
  },
  {
   "cell_type": "code",
   "execution_count": null,
   "metadata": {},
   "outputs": [],
   "source": [
    "#propogate_ap_df = pd.DataFrame(pd.read_csv(\"../data_files/propogate_output.csv\"))\n",
    "#display(propogate_ap_df)\n",
    "#graph_df(propogate_ap_df,1,len(propogate_ap_df))"
   ]
  },
  {
   "attachments": {},
   "cell_type": "markdown",
   "metadata": {},
   "source": [
    "# Graph reduction"
   ]
  },
  {
   "cell_type": "code",
   "execution_count": null,
   "metadata": {},
   "outputs": [],
   "source": [
    "reduce_df = pd.DataFrame(pd.read_csv(\"../data_files/reduced_V_output.csv\"))\n",
    "display(reduce_df)\n",
    "graph_df(reduce_df)##if u want to graph the full graph u have to do this"
   ]
  },
  {
   "attachments": {},
   "cell_type": "markdown",
   "metadata": {},
   "source": [
    "# Graph nullcline ( with tiny_N)"
   ]
  },
  {
   "cell_type": "code",
   "execution_count": null,
   "metadata": {},
   "outputs": [],
   "source": [
    "def graph_null(data_frame:pd.DataFrame,var_name,begin_x,end_x,step):\n",
    "    column_name =[var_name]\n",
    "    fig, ax = plt.subplots()\n",
    "    x = np.arange(begin_x, end_x, step=step)\n",
    "\n",
    "    for i in range(len(column_name)):\n",
    "        label = column_name[i]\n",
    "        #ax.scatter(x,test_output[label],color = color_list[i])\n",
    "        y = data_frame[label].dropna() \n",
    "        ax.plot(x,y,color = color_list[i])\n",
    "        \n",
    "    colorlist = zip(column_name,color_list)\n",
    "    handles = [mpatches.Patch(color=colour, label=column_name) for label, colour in colorlist]\n",
    "    t = \",\".join(column_name)\n",
    "    plt.legend(handles, column_name, ncol=1, bbox_to_anchor=(1, 1))\n",
    "    plt.plot()\n",
    "    ax.set_title(t)\n",
    "    plt.tight_layout()"
   ]
  },
  {
   "cell_type": "code",
   "execution_count": null,
   "metadata": {},
   "outputs": [],
   "source": [
    "null_df = pd.DataFrame(pd.read_csv(\"../data_files/reduced_null_output.csv\"))\n",
    "display(null_df)"
   ]
  },
  {
   "cell_type": "code",
   "execution_count": null,
   "metadata": {},
   "outputs": [],
   "source": [
    "fig, ax = plt.subplots()\n",
    "x1 = np.arange(-0.3,1.1002,step=0.0001)\n",
    "\n",
    "label= column_name= [\"N\",\"V\",\"tiny_N\"]\n",
    "y1 = null_df[\"N\"].dropna()\n",
    "print(len(y1))\n",
    "ax.plot(x1,y1,color = color_list[0])## graphed the N plot\n",
    "\n",
    "x2 =  null_df[\"V\"].dropna()\n",
    "y2=  np.arange(-0.05,0.15+0.0001,step=0.0001)\n",
    "ax.plot(x2,y2,color = color_list[1])## graphed the V plot\n",
    "\n",
    "\n",
    "\"\"\"x3 = np.arange( -0.3,0.5+0.000002,step=0.000001)\n",
    "y3 = null_df[\"tiny_N\"].dropna()\"\"\"\n",
    "ax.plot(x3,y3,color = color_list[2])## graphed the V plot\n",
    "\n",
    "colorlist = zip(column_name,color_list)\n",
    "handles = [mpatches.Patch(color=colour, label=column_name) for label, colour in colorlist]\n",
    "t = \",\".join(column_name)\n",
    "plt.legend(handles, column_name, ncol=1, bbox_to_anchor=(1, 1))\n",
    "plt.plot()\n",
    "ax.set_title(t)\n",
    "plt.tight_layout()"
   ]
  },
  {
   "attachments": {},
   "cell_type": "markdown",
   "metadata": {},
   "source": [
    "# Graph nullcline "
   ]
  },
  {
   "cell_type": "code",
   "execution_count": null,
   "metadata": {},
   "outputs": [],
   "source": [
    "null_df = pd.DataFrame(pd.read_csv(\"../data_files/reduced_null_output.csv\"))\n",
    "#display(null_df)"
   ]
  },
  {
   "cell_type": "code",
   "execution_count": null,
   "metadata": {},
   "outputs": [],
   "source": [
    "fig, ax = plt.subplots()\n",
    "x1 = np.arange(-0.15,0.4502,step=0.0001)\n",
    "\n",
    "label= column_name= [\"N\",\"V\",\"dn/dt_zero\",\"dv/dt_zero\"]\n",
    "y1 = null_df[\"N\"].dropna()\n",
    "print(len(y1))\n",
    "ax.plot(x1,y1,color = color_list[0])## graphed the N plot\n",
    "\n",
    "x2 =  null_df[\"V\"].dropna()\n",
    "y2=  np.arange(-0.05,0.12+0.0001,step=0.0001)\n",
    "ax.plot(x2,y2,color = color_list[1])## graphed the V plot\n",
    "\n",
    "x3 =  null_df[\"V_dn_0\"].dropna()\n",
    "y3 = null_df[\"N_dn_0\"].dropna()\n",
    "\n",
    "y3_pred = np.polyfit(x3, y3, deg=3)\n",
    "ax.plot(x3,np.polyval(y3_pred, x3),color = color_list[2]) \n",
    "\n",
    "x4 =  null_df[\"V_dv_0\"].dropna()\n",
    "y4 = null_df[\"N_dv_0\"].dropna()\n",
    "y4_pred =  np.polyfit(x4, y4, deg=3)\n",
    "ax.plot(x4,np.polyval(y4_pred, x4),color = color_list[3]) \n",
    "\n",
    "x5 = null_df[\"Vdt\"].dropna().to_numpy() \n",
    "y5 =  null_df[\"Ndt\"].dropna().to_numpy()\n",
    "\n",
    "x6 = null_df[\"V_x_dt\"].dropna().to_numpy() \n",
    "y6 =  null_df[\"N_y_dt\"].dropna().to_numpy()\n",
    "\n",
    "u = -x5/np.sqrt(x5**2 + y5**2)\n",
    "v = -y5/np.sqrt(x5**2 + y5**2)\n",
    "\n",
    "plt.quiver(x6,y6,u,v)\n",
    "\n",
    "colorlist = zip(column_name,color_list)\n",
    "handles = [mpatches.Patch(color=colour, label=column_name) for label, colour in colorlist]\n",
    "t = \",\".join(column_name)\n",
    "plt.legend(handles, column_name, ncol=1, bbox_to_anchor=(1, 1))\n",
    "plt.plot()\n",
    "ax.set_title(t)\n",
    "plt.tight_layout()"
   ]
  },
  {
   "cell_type": "code",
   "execution_count": null,
   "metadata": {},
   "outputs": [],
   "source": [
    "fig, ax = plt.subplots()\n",
    "x3 = null_df[\"V_dv_0\"].dropna().to_numpy() \n",
    "y3 =  null_df[\"N_dv_0\"].dropna().to_numpy()\n",
    "\n",
    "y3_pred = np.polyfit(x3, y3, deg=3)\n",
    "ax.plot(x3,np.polyval(y3_pred, x3),color = color_list[3], label='dv/dt=0') \n",
    "#ax.plot(x3,y3,color = color_list[2],label='og graph')## graphed the V plot\n",
    "\n",
    "x5 = null_df[\"Vdt\"].dropna().to_numpy() \n",
    "y5 =  null_df[\"Ndt\"].dropna().to_numpy()\n",
    "\n",
    "x6 = null_df[\"V_x_dt\"].dropna().to_numpy() \n",
    "y6 =  null_df[\"N_y_dt\"].dropna().to_numpy()\n",
    "\n",
    "u = x5/np.sqrt(x5**2 + y5**2)\n",
    "v = y5/np.sqrt(x5**2 + y5**2)\n",
    "\n",
    "plt.quiver(x6,y6,u,v)\n",
    "\n",
    "ax.legend()\n",
    "plt.plot()\n",
    "plt.tight_layout()"
   ]
  }
 ],
 "metadata": {
  "kernelspec": {
   "display_name": "Python 3",
   "language": "python",
   "name": "python3"
  },
  "language_info": {
   "codemirror_mode": {
    "name": "ipython",
    "version": 3
   },
   "file_extension": ".py",
   "mimetype": "text/x-python",
   "name": "python",
   "nbconvert_exporter": "python",
   "pygments_lexer": "ipython3",
   "version": "3.10.9 (tags/v3.10.9:1dd9be6, Dec  6 2022, 20:01:21) [MSC v.1934 64 bit (AMD64)]"
  },
  "orig_nbformat": 4,
  "vscode": {
   "interpreter": {
    "hash": "648f60def43ad773c8aa210172ef0fa19aae74bb5b04dd24715f3bb5fc884de2"
   }
  }
 },
 "nbformat": 4,
 "nbformat_minor": 2
}

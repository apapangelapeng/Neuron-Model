{
 "cells": [
  {
   "cell_type": "code",
   "execution_count": 1,
   "metadata": {},
   "outputs": [],
   "source": [
    "import pandas as pd\n",
    "import numpy as np\n",
    "import matplotlib.pyplot as plt\n",
    "import matplotlib.patches as mpatches\n",
    "color_list =[\"#3eb991\",\"#e9a820\",\"#e01563\",\"#edb196\",\"#6ecadc\",\"#1f94ac\",\"#ae9a6a\",\"#ccb8a6\",\"#343a44\"]\n"
   ]
  },
  {
   "attachments": {},
   "cell_type": "markdown",
   "metadata": {},
   "source": [
    "# Graphing definition"
   ]
  },
  {
   "cell_type": "code",
   "execution_count": 2,
   "metadata": {},
   "outputs": [],
   "source": [
    "def graph_df(data_frame:pd.DataFrame,begin_index=0,end_index=None):\n",
    "    if end_index:\n",
    "        column_name =list(data_frame.columns )[begin_index:end_index]\n",
    "    else:\n",
    "        column_name =list(data_frame.columns )[begin_index:]\n",
    "    fig, ax = plt.subplots()\n",
    "    x = np.arange(0, len(data_frame), step=1)\n",
    "\n",
    "    for i in range(len(column_name)):\n",
    "        label = column_name[i]\n",
    "        #ax.scatter(x,test_output[label],color = color_list[i])\n",
    "        ax.plot(x,data_frame[label],color = color_list[i])\n",
    "        \n",
    "    colorlist = zip(column_name,color_list)\n",
    "    handles = [mpatches.Patch(color=colour, label=column_name) for label, colour in colorlist]\n",
    "    t = \",\".join(column_name)\n",
    "    plt.legend(handles, column_name, ncol=1, bbox_to_anchor=(1, 1))\n",
    "    plt.plot()\n",
    "    ax.set_title(t)\n",
    "    plt.tight_layout()"
   ]
  },
  {
   "attachments": {},
   "cell_type": "markdown",
   "metadata": {},
   "source": [
    "# Graphing Propogation"
   ]
  },
  {
   "cell_type": "code",
   "execution_count": 3,
   "metadata": {},
   "outputs": [],
   "source": [
    "#propogate_ap_df = pd.DataFrame(pd.read_csv(\"../data_files/propogate_output.csv\"))\n",
    "#display(propogate_ap_df)\n",
    "#graph_df(propogate_ap_df,1,len(propogate_ap_df))"
   ]
  },
  {
   "attachments": {},
   "cell_type": "markdown",
   "metadata": {},
   "source": [
    "# Graph reduction"
   ]
  },
  {
   "cell_type": "code",
   "execution_count": 4,
   "metadata": {},
   "outputs": [
    {
     "data": {
      "text/html": [
       "<div>\n",
       "<style scoped>\n",
       "    .dataframe tbody tr th:only-of-type {\n",
       "        vertical-align: middle;\n",
       "    }\n",
       "\n",
       "    .dataframe tbody tr th {\n",
       "        vertical-align: top;\n",
       "    }\n",
       "\n",
       "    .dataframe thead th {\n",
       "        text-align: right;\n",
       "    }\n",
       "</style>\n",
       "<table border=\"1\" class=\"dataframe\">\n",
       "  <thead>\n",
       "    <tr style=\"text-align: right;\">\n",
       "      <th></th>\n",
       "      <th>0.4</th>\n",
       "      <th>0.448</th>\n",
       "      <th>0.507329</th>\n",
       "      <th>0.579935</th>\n",
       "      <th>0.665808</th>\n",
       "      <th>0.759971</th>\n",
       "      <th>0.849448</th>\n",
       "      <th>0.916224</th>\n",
       "      <th>0.950917</th>\n",
       "      <th>0.961406</th>\n",
       "      <th>...</th>\n",
       "      <th>-6.02681e-20</th>\n",
       "      <th>-5.73834e-20</th>\n",
       "      <th>-5.46367e-20</th>\n",
       "      <th>-5.20214e-20</th>\n",
       "      <th>-4.95314e-20</th>\n",
       "      <th>-4.71605e-20</th>\n",
       "      <th>-4.49032e-20</th>\n",
       "      <th>-4.27538e-20</th>\n",
       "      <th>-4.07074e-20</th>\n",
       "      <th>Unnamed: 1001</th>\n",
       "    </tr>\n",
       "  </thead>\n",
       "  <tbody>\n",
       "  </tbody>\n",
       "</table>\n",
       "<p>0 rows × 1002 columns</p>\n",
       "</div>"
      ],
      "text/plain": [
       "Empty DataFrame\n",
       "Columns: [0.4, 0.448, 0.507329, 0.579935, 0.665808, 0.759971, 0.849448, 0.916224, 0.950917, 0.961406, 0.960712, 0.956106, 0.950216, 0.943867, 0.937317, 0.930645, 0.923876, 0.917013, 0.910052, 0.902987, 0.895809, 0.888509, 0.881074, 0.873492, 0.865747, 0.857823, 0.8497, 0.841357, 0.832767, 0.823901, 0.814724, 0.805194, 0.795262, 0.784869, 0.773943, 0.762398, 0.750125, 0.73699, 0.722821, 0.707401, 0.690446, 0.671583, 0.650312, 0.625953, 0.597572, 0.56386, 0.522972, 0.472313, 0.408304, 0.326366, 0.221829, 0.0936302, -0.0464929, -0.164098, -0.221967, -0.232204, -0.23025, -0.227098, -0.223869, -0.220653, -0.217459, -0.214288, -0.21114, -0.208015, -0.204913, -0.201833, -0.198777, -0.195744, -0.192733, -0.189746, -0.186782, -0.183841, -0.180924, -0.178029, -0.175158, -0.17231, -0.169486, -0.166685, -0.163908, -0.161154, -0.158424, -0.155717, -0.153035, -0.150375, -0.14774, -0.145129, -0.142542, -0.139978, -0.137439, -0.134924, -0.132433, -0.129967, -0.127524, -0.125107, -0.122713, -0.120345, -0.118001, -0.115681, -0.113387, -0.111117, ...]\n",
       "Index: []\n",
       "\n",
       "[0 rows x 1002 columns]"
      ]
     },
     "metadata": {},
     "output_type": "display_data"
    },
    {
     "ename": "IndexError",
     "evalue": "list index out of range",
     "output_type": "error",
     "traceback": [
      "\u001b[1;31m---------------------------------------------------------------------------\u001b[0m",
      "\u001b[1;31mIndexError\u001b[0m                                Traceback (most recent call last)",
      "Cell \u001b[1;32mIn [4], line 3\u001b[0m\n\u001b[0;32m      1\u001b[0m reduce_df \u001b[39m=\u001b[39m pd\u001b[39m.\u001b[39mDataFrame(pd\u001b[39m.\u001b[39mread_csv(\u001b[39m\"\u001b[39m\u001b[39m../data_files/reduced2dV_output.csv\u001b[39m\u001b[39m\"\u001b[39m))\n\u001b[0;32m      2\u001b[0m display(reduce_df)\n\u001b[1;32m----> 3\u001b[0m graph_df(reduce_df)\u001b[39m##if u want to graph the full graph u have to do this\u001b[39;00m\n",
      "Cell \u001b[1;32mIn [2], line 12\u001b[0m, in \u001b[0;36mgraph_df\u001b[1;34m(data_frame, begin_index, end_index)\u001b[0m\n\u001b[0;32m     10\u001b[0m     label \u001b[39m=\u001b[39m column_name[i]\n\u001b[0;32m     11\u001b[0m     \u001b[39m#ax.scatter(x,test_output[label],color = color_list[i])\u001b[39;00m\n\u001b[1;32m---> 12\u001b[0m     ax\u001b[39m.\u001b[39mplot(x,data_frame[label],color \u001b[39m=\u001b[39m color_list[i])\n\u001b[0;32m     14\u001b[0m colorlist \u001b[39m=\u001b[39m \u001b[39mzip\u001b[39m(column_name,color_list)\n\u001b[0;32m     15\u001b[0m handles \u001b[39m=\u001b[39m [mpatches\u001b[39m.\u001b[39mPatch(color\u001b[39m=\u001b[39mcolour, label\u001b[39m=\u001b[39mcolumn_name) \u001b[39mfor\u001b[39;00m label, colour \u001b[39min\u001b[39;00m colorlist]\n",
      "\u001b[1;31mIndexError\u001b[0m: list index out of range"
     ]
    },
    {
     "data": {
      "image/png": "[encoded data removed]",
      "text/plain": [
       "<Figure size 640x480 with 1 Axes>"
      ]
     },
     "metadata": {},
     "output_type": "display_data"
    }
   ],
   "source": [
    "reduce_df = pd.DataFrame(pd.read_csv(\"../data_files/reduced_V_output.csv\"))\n",
    "display(reduce_df)\n",
    "graph_df(reduce_df)##if u want to graph the full graph u have to do this"
   ]
  },
  {
   "attachments": {},
   "cell_type": "markdown",
   "metadata": {},
   "source": [
    "# Graph nullcline ( with tiny_N)"
   ]
  },
  {
   "cell_type": "code",
   "execution_count": null,
   "metadata": {},
   "outputs": [],
   "source": [
    "def graph_null(data_frame:pd.DataFrame,var_name,begin_x,end_x,step):\n",
    "    column_name =[var_name]\n",
    "    fig, ax = plt.subplots()\n",
    "    x = np.arange(begin_x, end_x, step=step)\n",
    "\n",
    "    for i in range(len(column_name)):\n",
    "        label = column_name[i]\n",
    "        #ax.scatter(x,test_output[label],color = color_list[i])\n",
    "        y = data_frame[label].dropna() \n",
    "        ax.plot(x,y,color = color_list[i])\n",
    "        \n",
    "    colorlist = zip(column_name,color_list)\n",
    "    handles = [mpatches.Patch(color=colour, label=column_name) for label, colour in colorlist]\n",
    "    t = \",\".join(column_name)\n",
    "    plt.legend(handles, column_name, ncol=1, bbox_to_anchor=(1, 1))\n",
    "    plt.plot()\n",
    "    ax.set_title(t)\n",
    "    plt.tight_layout()"
   ]
  },
  {
   "cell_type": "code",
   "execution_count": null,
   "metadata": {},
   "outputs": [],
   "source": [
    "null_df = pd.DataFrame(pd.read_csv(\"../data_files/reduced_null_output.csv\"))\n",
    "display(null_df)"
   ]
  },
  {
   "cell_type": "code",
   "execution_count": null,
   "metadata": {},
   "outputs": [],
   "source": [
    "fig, ax = plt.subplots()\n",
    "x1 = np.arange(-0.3,1.1002,step=0.0001)\n",
    "\n",
    "label= column_name= [\"N\",\"V\",\"tiny_N\"]\n",
    "y1 = null_df[\"N\"].dropna()\n",
    "print(len(y1))\n",
    "ax.plot(x1,y1,color = color_list[0])## graphed the N plot\n",
    "\n",
    "x2 =  null_df[\"V\"].dropna()\n",
    "y2=  np.arange(-0.05,0.15+0.0001,step=0.0001)\n",
    "ax.plot(x2,y2,color = color_list[1])## graphed the V plot\n",
    "\n",
    "\n",
    "\"\"\"x3 = np.arange( -0.3,0.5+0.000002,step=0.000001)\n",
    "y3 = null_df[\"tiny_N\"].dropna()\"\"\"\n",
    "ax.plot(x3,y3,color = color_list[2])## graphed the V plot\n",
    "\n",
    "colorlist = zip(column_name,color_list)\n",
    "handles = [mpatches.Patch(color=colour, label=column_name) for label, colour in colorlist]\n",
    "t = \",\".join(column_name)\n",
    "plt.legend(handles, column_name, ncol=1, bbox_to_anchor=(1, 1))\n",
    "plt.plot()\n",
    "ax.set_title(t)\n",
    "plt.tight_layout()"
   ]
  },
  {
   "attachments": {},
   "cell_type": "markdown",
   "metadata": {},
   "source": [
    "# Graph nullcline "
   ]
  },
  {
   "cell_type": "code",
   "execution_count": null,
   "metadata": {},
   "outputs": [],
   "source": [
    "null_df = pd.DataFrame(pd.read_csv(\"../data_files/reduced_null_output.csv\"))\n",
    "#display(null_df)"
   ]
  },
  {
   "cell_type": "code",
   "execution_count": null,
   "metadata": {},
   "outputs": [],
   "source": [
    "fig, ax = plt.subplots()\n",
    "x1 = np.arange(-0.15,0.4502,step=0.0001)\n",
    "\n",
    "label= column_name= [\"N\",\"V\",\"dn/dt_zero\",\"dv/dt_zero\"]\n",
    "y1 = null_df[\"N\"].dropna()\n",
    "print(len(y1))\n",
    "ax.plot(x1,y1,color = color_list[0])## graphed the N plot\n",
    "\n",
    "x2 =  null_df[\"V\"].dropna()\n",
    "y2=  np.arange(-0.05,0.12+0.0001,step=0.0001)\n",
    "ax.plot(x2,y2,color = color_list[1])## graphed the V plot\n",
    "\n",
    "x3 =  null_df[\"V_dn_0\"].dropna()\n",
    "y3 = null_df[\"N_dn_0\"].dropna()\n",
    "\n",
    "y3_pred = np.polyfit(x3, y3, deg=3)\n",
    "ax.plot(x3,np.polyval(y3_pred, x3),color = color_list[2]) \n",
    "\n",
    "x4 =  null_df[\"V_dv_0\"].dropna()\n",
    "y4 = null_df[\"N_dv_0\"].dropna()\n",
    "y4_pred =  np.polyfit(x4, y4, deg=3)\n",
    "ax.plot(x4,np.polyval(y4_pred, x4),color = color_list[3]) \n",
    "\n",
    "x5 = null_df[\"Vdt\"].dropna().to_numpy() \n",
    "y5 =  null_df[\"Ndt\"].dropna().to_numpy()\n",
    "\n",
    "x6 = null_df[\"V_x_dt\"].dropna().to_numpy() \n",
    "y6 =  null_df[\"N_y_dt\"].dropna().to_numpy()\n",
    "\n",
    "u = -x5/np.sqrt(x5**2 + y5**2)\n",
    "v = -y5/np.sqrt(x5**2 + y5**2)\n",
    "\n",
    "plt.quiver(x6,y6,u,v)\n",
    "\n",
    "colorlist = zip(column_name,color_list)\n",
    "handles = [mpatches.Patch(color=colour, label=column_name) for label, colour in colorlist]\n",
    "t = \",\".join(column_name)\n",
    "plt.legend(handles, column_name, ncol=1, bbox_to_anchor=(1, 1))\n",
    "plt.plot()\n",
    "ax.set_title(t)\n",
    "plt.tight_layout()"
   ]
  },
  {
   "cell_type": "code",
   "execution_count": null,
   "metadata": {},
   "outputs": [],
   "source": [
    "fig, ax = plt.subplots()\n",
    "x3 = null_df[\"V_dv_0\"].dropna().to_numpy() \n",
    "y3 =  null_df[\"N_dv_0\"].dropna().to_numpy()\n",
    "\n",
    "y3_pred = np.polyfit(x3, y3, deg=3)\n",
    "ax.plot(x3,np.polyval(y3_pred, x3),color = color_list[3], label='dv/dt=0') \n",
    "#ax.plot(x3,y3,color = color_list[2],label='og graph')## graphed the V plot\n",
    "\n",
    "x5 = null_df[\"Vdt\"].dropna().to_numpy() \n",
    "y5 =  null_df[\"Ndt\"].dropna().to_numpy()\n",
    "\n",
    "x6 = null_df[\"V_x_dt\"].dropna().to_numpy() \n",
    "y6 =  null_df[\"N_y_dt\"].dropna().to_numpy()\n",
    "\n",
    "u = x5/np.sqrt(x5**2 + y5**2)\n",
    "v = y5/np.sqrt(x5**2 + y5**2)\n",
    "\n",
    "plt.quiver(x6,y6,u,v)\n",
    "\n",
    "ax.legend()\n",
    "plt.plot()\n",
    "plt.tight_layout()"
   ]
  }
 ],
 "metadata": {
  "kernelspec": {
   "display_name": "Python 3",
   "language": "python",
   "name": "python3"
  },
  "language_info": {
   "codemirror_mode": {
    "name": "ipython",
    "version": 3
   },
   "file_extension": ".py",
   "mimetype": "text/x-python",
   "name": "python",
   "nbconvert_exporter": "python",
   "pygments_lexer": "ipython3",
   "version": "3.10.9"
  },
  "orig_nbformat": 4,
  "vscode": {
   "interpreter": {
    "hash": "648f60def43ad773c8aa210172ef0fa19aae74bb5b04dd24715f3bb5fc884de2"
   }
  }
 },
 "nbformat": 4,
 "nbformat_minor": 2
}

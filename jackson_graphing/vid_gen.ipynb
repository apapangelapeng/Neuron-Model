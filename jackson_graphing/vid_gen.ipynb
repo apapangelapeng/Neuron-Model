{
 "cells": [
  {
   "cell_type": "code",
   "execution_count": 8,
   "metadata": {},
   "outputs": [
    {
     "name": "stdout",
     "output_type": "stream",
     "text": [
      "['C:\\\\Users\\\\Jackson\\\\Code\\\\NeuronModel\\\\Neuron-Model\\\\jackson_graphing']\n",
      "..\n",
      "output0.1000_0.5000_0.9900\n",
      "removed old file\n",
      "finished creating graphs, making video\n"
     ]
    }
   ],
   "source": [
    "import pandas as pd\n",
    "import numpy as np\n",
    "import matplotlib.pyplot as plt\n",
    "import matplotlib.patches as mpatches\n",
    "\n",
    "import os\n",
    "import pathlib\n",
    "from glob import glob\n",
    "import glob\n",
    "\n",
    "def graph_time_frame(data_frame,time_frame):\n",
    "    row1 = data_frame.iloc[time_frame]\n",
    "    x = np.arange(0,len(row1),step = 1)\n",
    "    fig, ax = plt.subplots()\n",
    "    ax.plot(x,row1)\n",
    "    ax.set_xlabel(\"axon location\")\n",
    "    ax.set_ylabel(\"V\")\n",
    "    ax.set_title(f\"time: {time_frame}\")\n",
    "    ax.set_ylim(-0.5,1.2)\n",
    "    plt.plot()\n",
    "    plt.tight_layout()\n",
    "    plt.savefig(f\"{current_path}/graphs/2D/{time_frame}\")\n",
    "    plt.close() \n",
    "\n",
    "    \n",
    "\n",
    "current_path = str(pathlib.Path().resolve()).split(\"/\")\n",
    "print(current_path)\n",
    "for index in range(len(current_path)):\n",
    "    j = current_path[index]\n",
    "    if j == \"Neuron-Model\":\n",
    "        break\n",
    "current_path = \"..\"\n",
    "print(current_path)\n",
    "all_files = glob. glob(f\"{current_path}/data_files/reduced2dV_output*.csv\")\n",
    "for f in all_files:\n",
    "    propogate_ap_df = pd.DataFrame(pd.read_csv(f))\n",
    "    name = \".\".join(os.path.basename(f).split(\".\")[:-1])\n",
    "    name =\"_\".join( name.split(\"_\")[1:])\n",
    "    print(name)\n",
    "    #cleaning old files\n",
    "    os.makedirs(f\"{current_path}/graphs/2D\", exist_ok=True)\n",
    "    old_files =glob.glob(f\"{current_path}/graphs/2D/*.png\")\n",
    "    for f in old_files:\n",
    "        os.remove(f)\n",
    "    print(\"removed old file\")\n",
    "\n",
    "    #graph new data\n",
    "    for i in range(len(propogate_ap_df)): \n",
    "        graph_time_frame(propogate_ap_df,i)\n",
    "    print(\"finished creating graphs, making video\")\n",
    "\n",
    "    os.system(f\"convert -delay 1 -loop 0 $(ls -1 {current_path}/graphs/2D/*.png | sort -V) -quality 95 {current_path}/vid/{name}.mp4\")"
   ]
  }
 ],
 "metadata": {
  "kernelspec": {
   "display_name": "Python 3",
   "language": "python",
   "name": "python3"
  },
  "language_info": {
   "codemirror_mode": {
    "name": "ipython",
    "version": 3
   },
   "file_extension": ".py",
   "mimetype": "text/x-python",
   "name": "python",
   "nbconvert_exporter": "python",
   "pygments_lexer": "ipython3",
   "version": "3.10.9"
  },
  "orig_nbformat": 4,
  "vscode": {
   "interpreter": {
    "hash": "648f60def43ad773c8aa210172ef0fa19aae74bb5b04dd24715f3bb5fc884de2"
   }
  }
 },
 "nbformat": 4,
 "nbformat_minor": 2
}

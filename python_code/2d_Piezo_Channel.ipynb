{
 "cells": [
  {
   "cell_type": "code",
   "execution_count": 592,
   "metadata": {},
   "outputs": [],
   "source": [
    "import pandas as pd\n",
    "import numpy as np\n",
    "import matplotlib.pyplot as plt\n",
    "import matplotlib.patches as mpatches\n",
    "from datetime import datetime\n",
    "import os\n",
    "import cv2\n",
    "from glob import glob\n",
    "color_list =[\"#3eb991\",\"#e9a820\",\"#e01563\",\"#edb196\",\"#6ecadc\",\"#1f94ac\",\"#ae9a6a\",\"#ccb8a6\",\"#343a44\"]"
   ]
  },
  {
   "attachments": {},
   "cell_type": "markdown",
   "metadata": {},
   "source": [
    "# Average graphing"
   ]
  },
  {
   "cell_type": "code",
   "execution_count": 593,
   "metadata": {},
   "outputs": [],
   "source": [
    "def graph_df(data_frame:pd.DataFrame,begin_index=0,end_index=None):\n",
    "    if end_index:\n",
    "        column_name =list(data_frame.columns )[begin_index:end_index]\n",
    "    else:\n",
    "        column_name =list(data_frame.columns )[begin_index:]\n",
    "    fig, ax = plt.subplots()\n",
    "    print(column_name)\n",
    "    x = np.arange(0, len(data_frame), step=1)\n",
    "    \n",
    "\n",
    "    for i in range(len(column_name)):\n",
    "        label = column_name[i]\n",
    "        #ax.scatter(x,test_output[label],color = color_list[i])\n",
    "        ax.plot(x,data_frame[label],color = color_list[i])\n",
    "        \n",
    "    colorlist = zip(column_name,color_list)\n",
    "    handles = [mpatches.Patch(color=colour, label=column_name) for label, colour in colorlist]\n",
    "    t = \",\".join(column_name)\n",
    "    plt.legend(handles, column_name, ncol=1, bbox_to_anchor=(1, 1))\n",
    "    plt.plot()\n",
    "    plt.xlabel('time (ms)')\n",
    "    plt.ylabel('Ca2+ (nM)')\n",
    "    #ax.set_title(t)\n",
    "    plt.tight_layout()"
   ]
  },
  {
   "cell_type": "code",
   "execution_count": 594,
   "metadata": {},
   "outputs": [
    {
     "name": "stdout",
     "output_type": "stream",
     "text": [
      "['Average']\n"
     ]
    },
    {
     "data": {
      "image/png": "[encoded data removed]",
      "text/plain": [
       "<Figure size 500x500 with 1 Axes>"
      ]
     },
     "metadata": {},
     "output_type": "display_data"
    }
   ],
   "source": [
    "calcium_dynamics = pd.DataFrame(pd.read_csv(\"../data_files/2d_Piezo_Channel_avg.csv\"))\n",
    "#display(static_ap_df) \n",
    "graph_df(calcium_dynamics,0,1)"
   ]
  },
  {
   "attachments": {},
   "cell_type": "markdown",
   "metadata": {},
   "source": [
    "# Buffer concentration"
   ]
  },
  {
   "cell_type": "code",
   "execution_count": 595,
   "metadata": {},
   "outputs": [],
   "source": [
    "#graph_df(calcium_dynamics,1,2)"
   ]
  },
  {
   "attachments": {},
   "cell_type": "markdown",
   "metadata": {},
   "source": [
    "# Heatmap graphing"
   ]
  },
  {
   "cell_type": "code",
   "execution_count": 596,
   "metadata": {},
   "outputs": [],
   "source": [
    "# def graph_df2(data_frame:pd.DataFrame,begin_index=0,end_index=None):\n",
    "#     if end_index:\n",
    "#         column_name =list(data_frame.columns )[begin_index:end_index]\n",
    "#     else:\n",
    "#         column_name =list(data_frame.columns )[begin_index:]\n",
    "#     fig, ax = plt.subplots()\n",
    "#     # print(column_name)\n",
    "#     x = np.arange(0, len(data_frame), step=1)\n",
    "#     # y = np.arange(0, len(data_frame)/100, step=1/100)\n",
    "\n",
    "#     for i in range(len(column_name)):\n",
    "#         label = column_name[i]\n",
    "#         #ax.scatter(x,test_output[label],color = color_list[i])\n",
    "#         ax.plot(x,data_frame[label],color = color_list[i])\n",
    "        \n",
    "#     colorlist = zip(column_name,color_list)\n",
    "#     plt.imshow(data_frame)\n",
    "#     plt.rcParams['figure.figsize'] = [5, 5]\n",
    "#     #ax.set_title(t)\n",
    "#     #plt.tight_layout()"
   ]
  },
  {
   "cell_type": "code",
   "execution_count": 597,
   "metadata": {},
   "outputs": [],
   "source": [
    "# twod_piezo = pd.DataFrame(pd.read_csv(\"../data_files/2d_Piezo_Channel.csv\"))\n",
    "# #display(static_ap_df)\n",
    "# graph_df2(twod_piezo,0,2)\n",
    "# heatmap = plt.imshow(twod_piezo, vmin = 8e-16,vmax = 500e-16)\n",
    "# #plt.colorbar(heatmap)\n",
    "# plt.title('Heatmap')\n",
    "# plt.show()"
   ]
  },
  {
   "attachments": {},
   "cell_type": "markdown",
   "metadata": {},
   "source": [
    "# Video gen"
   ]
  },
  {
   "cell_type": "code",
   "execution_count": 598,
   "metadata": {},
   "outputs": [],
   "source": [
    "# def graph_time_frame(data_frame,k,counter):\n",
    "#     row1 = data_frame.iloc[k:k+20,:]\n",
    "#     x = np.arange(0,len(row1),step = 1)\n",
    "#     fig, ax = plt.subplots()\n",
    "#     ax.plot(x,row1)\n",
    "#     ax.set_xlabel(\"X\")\n",
    "#     ax.set_ylabel(\"Y\")\n",
    "#     heatmap = plt.imshow(row1,vmin = 8e-16,vmax = 500e-16)\n",
    "#     plt.colorbar(heatmap)\n",
    "#     plt.title('Heatmap')\n",
    "#     ax.set_title(f\"time: {100*counter}\")\n",
    "#     if (counter < 10):\n",
    "#         plt.savefig(f\"../graphs/2D/000{counter}\")\n",
    "#     elif (counter < 100):\n",
    "#         plt.savefig(f\"../graphs/2D/00{counter}\")\n",
    "#     elif (counter < 1000):\n",
    "#         plt.savefig(f\"../graphs/2D/0{counter}\")\n",
    "#     else:\n",
    "#         plt.savefig(f\"../graphs/2D/{counter}\")\n",
    "\n",
    "#     plt.close() "
   ]
  },
  {
   "cell_type": "code",
   "execution_count": 599,
   "metadata": {},
   "outputs": [],
   "source": [
    "# os.makedirs(\"../graphs/2D\", exist_ok=True)\n",
    "\n",
    "# old_files = glob(\"../graphs/2D/*.png\")\n",
    "# for f in old_files:\n",
    "#     os.remove(f)"
   ]
  },
  {
   "cell_type": "code",
   "execution_count": 600,
   "metadata": {},
   "outputs": [],
   "source": [
    "# j = 21\n",
    "# k = 0\n",
    "# counter = 0\n",
    "# while k < len(twod_piezo):\n",
    "#     graph_time_frame(twod_piezo,k,counter)\n",
    "#     k += 21*100\n",
    "#     j += 21*100\n",
    "#     counter += 1"
   ]
  },
  {
   "attachments": {},
   "cell_type": "markdown",
   "metadata": {},
   "source": [
    "# Angela video"
   ]
  },
  {
   "cell_type": "code",
   "execution_count": 601,
   "metadata": {},
   "outputs": [],
   "source": [
    "# now = datetime.now()\n",
    "# current_time = now.strftime(\"%H_%M\")\n",
    "# print(current_time)\n",
    "# os.system(\"<path_to_covert> /convert -delay 1 -loop 0 $(ls -1 ../graphs/2D/*.png | sort -V) -quality 95 ../vid/{}_{}.mp4\".format(\"propagation\",current_time))"
   ]
  },
  {
   "attachments": {},
   "cell_type": "markdown",
   "metadata": {},
   "source": [
    "# Jackson video"
   ]
  },
  {
   "cell_type": "code",
   "execution_count": 602,
   "metadata": {},
   "outputs": [],
   "source": [
    "# image_folder = '../graphs/2D'\n",
    "# video_name = 'video.mp4'\n",
    "\n",
    "# images = [img for img in os.listdir(image_folder) if img.endswith(\".png\")]\n",
    "# frame = cv2.imread(os.path.join(image_folder, images[0]))\n",
    "# height, width, layers = frame.shape\n",
    "\n",
    "# video = cv2.VideoWriter(video_name, 0, 10, (width,height))\n",
    "\n",
    "# for image in images:\n",
    "#     video.write(cv2.imread(os.path.join(image_folder, image)))\n",
    "\n",
    "# cv2.destroyAllWindows()\n",
    "# video.release()"
   ]
  }
 ],
 "metadata": {
  "kernelspec": {
   "display_name": "Python 3",
   "language": "python",
   "name": "python3"
  },
  "language_info": {
   "codemirror_mode": {
    "name": "ipython",
    "version": 3
   },
   "file_extension": ".py",
   "mimetype": "text/x-python",
   "name": "python",
   "nbconvert_exporter": "python",
   "pygments_lexer": "ipython3",
   "version": "3.10.10"
  },
  "orig_nbformat": 4
 },
 "nbformat": 4,
 "nbformat_minor": 2
}

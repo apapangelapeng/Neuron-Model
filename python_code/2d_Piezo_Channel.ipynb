{
 "cells": [
  {
   "cell_type": "code",
   "execution_count": 181,
   "metadata": {},
   "outputs": [],
   "source": [
    "import pandas as pd\n",
    "import numpy as np\n",
    "import matplotlib.pyplot as plt\n",
    "import matplotlib.patches as mpatches\n",
    "from datetime import datetime\n",
    "import os\n",
    "from glob import glob\n",
    "color_list =[\"#3eb991\",\"#e9a820\",\"#e01563\",\"#edb196\",\"#6ecadc\",\"#1f94ac\",\"#ae9a6a\",\"#ccb8a6\",\"#343a44\"]"
   ]
  },
  {
   "cell_type": "code",
   "execution_count": 182,
   "metadata": {},
   "outputs": [],
   "source": [
    "def graph_df(data_frame:pd.DataFrame,begin_index=0,end_index=None):\n",
    "    if end_index:\n",
    "        column_name =list(data_frame.columns )[begin_index:end_index]\n",
    "    else:\n",
    "        column_name =list(data_frame.columns )[begin_index:]\n",
    "    fig, ax = plt.subplots()\n",
    "    # print(column_name)\n",
    "    x = np.arange(0, len(data_frame), step=1)\n",
    "    # y = np.arange(0, len(data_frame)/100, step=1/100)\n",
    "\n",
    "    for i in range(len(column_name)):\n",
    "        label = column_name[i]\n",
    "        #ax.scatter(x,test_output[label],color = color_list[i])\n",
    "        ax.plot(x,data_frame[label],color = color_list[i])\n",
    "        \n",
    "    colorlist = zip(column_name,color_list)\n",
    "    plt.imshow(data_frame)\n",
    "    plt.rcParams['figure.figsize'] = [6, 6]\n",
    "    #ax.set_title(t)\n",
    "    #plt.tight_layout()"
   ]
  },
  {
   "cell_type": "code",
   "execution_count": 183,
   "metadata": {},
   "outputs": [
    {
     "data": {
      "image/png": "[encoded data removed]",
      "text/plain": [
       "<Figure size 640x480 with 2 Axes>"
      ]
     },
     "metadata": {},
     "output_type": "display_data"
    }
   ],
   "source": [
    "twod_piezo = pd.DataFrame(pd.read_csv(\"../data_files/2d_Piezo_Channel.csv\"))\n",
    "#display(static_ap_df)\n",
    "#graph_df(twod_piezo,0,2)\n",
    "# heatmap = plt.imshow(twod_piezo, extent =[0, 10, 0, 10])\n",
    "# plt.colorbar(heatmap)\n",
    "# plt.title('Heatmap')\n",
    "# plt.show()"
   ]
  },
  {
   "attachments": {},
   "cell_type": "markdown",
   "metadata": {},
   "source": [
    "# Video gen"
   ]
  },
  {
   "cell_type": "code",
   "execution_count": 184,
   "metadata": {},
   "outputs": [],
   "source": [
    "def graph_time_frame(data_frame,k,counter):\n",
    "    row1 = data_frame.iloc[k:k+10,:]\n",
    "    x = np.arange(0,len(row1),step = 1)\n",
    "    fig, ax = plt.subplots()\n",
    "    ax.plot(x,row1)\n",
    "    ax.set_xlabel(\"X\")\n",
    "    ax.set_ylabel(\"Y\")\n",
    "    heatmap = plt.imshow(row1,vmin = 8e-16,vmax = 500e-16)\n",
    "    plt.colorbar(heatmap)\n",
    "    plt.title('Heatmap')\n",
    "    ax.set_title(f\"time: {counter}\")\n",
    "    plt.savefig(f\"../graphs/2D/{counter}\")\n",
    "    plt.close() "
   ]
  },
  {
   "cell_type": "code",
   "execution_count": 185,
   "metadata": {},
   "outputs": [],
   "source": [
    "os.makedirs(\"../graphs/2D\", exist_ok=True)\n",
    "\n",
    "old_files = glob(\"../graphs/2D/*.png\")\n",
    "for f in old_files:\n",
    "    os.remove(f)"
   ]
  },
  {
   "cell_type": "code",
   "execution_count": 186,
   "metadata": {},
   "outputs": [],
   "source": [
    "j = 11\n",
    "k = 0\n",
    "counter = 0\n",
    "while k < 121:\n",
    "    graph_time_frame(twod_piezo,k,counter)\n",
    "    k += 11\n",
    "    j += 11\n",
    "    counter += 1"
   ]
  },
  {
   "cell_type": "code",
   "execution_count": 187,
   "metadata": {},
   "outputs": [],
   "source": [
    "# for i in range(len(twod_piezo)): \n",
    "#     graph_time_frame(twod_piezo,i)"
   ]
  },
  {
   "cell_type": "code",
   "execution_count": 188,
   "metadata": {},
   "outputs": [
    {
     "name": "stdout",
     "output_type": "stream",
     "text": [
      "10_30\n"
     ]
    },
    {
     "data": {
      "text/plain": [
       "1"
      ]
     },
     "execution_count": 188,
     "metadata": {},
     "output_type": "execute_result"
    }
   ],
   "source": [
    "# how to make this do videos :) \n",
    "# help angela \n",
    "\n",
    "now = datetime.now()\n",
    "current_time = now.strftime(\"%H_%M\")\n",
    "print(current_time)\n",
    "os.system(\"convert -delay 1 -loop 0 $(ls -1 ../graphs/2D/*.png | sort -V) -quality 95 ../vid/{}_{}.mp4\".format(\"propagation\",current_time))"
   ]
  }
 ],
 "metadata": {
  "kernelspec": {
   "display_name": "Python 3",
   "language": "python",
   "name": "python3"
  },
  "language_info": {
   "codemirror_mode": {
    "name": "ipython",
    "version": 3
   },
   "file_extension": ".py",
   "mimetype": "text/x-python",
   "name": "python",
   "nbconvert_exporter": "python",
   "pygments_lexer": "ipython3",
   "version": "3.10.10"
  },
  "orig_nbformat": 4
 },
 "nbformat": 4,
 "nbformat_minor": 2
}

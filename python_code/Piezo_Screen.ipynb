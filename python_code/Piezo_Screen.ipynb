{
 "cells": [
  {
   "cell_type": "code",
   "execution_count": null,
   "metadata": {},
   "outputs": [],
   "source": [
    "import pandas as pd\n",
    "import numpy as np\n",
    "import matplotlib.pyplot as plt\n",
    "import matplotlib.patches as mpatches\n",
    "color_list =[\"#3eb991\",\"#e9a820\",\"#e01563\",\"#edb196\",\"#6ecadc\",\"#1f94ac\",\"#ae9a6a\",\"#ccb8a6\",\"#343a44\"]"
   ]
  },
  {
   "cell_type": "code",
   "execution_count": null,
   "metadata": {},
   "outputs": [],
   "source": [
    "screen_df = pd.DataFrame(pd.read_csv(\"../data_files/Piezo_Channel.csv\"))\n",
    "#display(screen_df)"
   ]
  },
  {
   "attachments": {},
   "cell_type": "markdown",
   "metadata": {},
   "source": [
    "# Graphing Definition"
   ]
  },
  {
   "cell_type": "code",
   "execution_count": null,
   "metadata": {},
   "outputs": [],
   "source": [
    "fig, ax = plt.subplots()\n",
    "\n",
    "label= column_name= [\"Time\",\"Channel_number\"]\n",
    "x1 = screen_df[\"Time\"].dropna()\n",
    "y1 = screen_df[\"Channel_number\"].dropna()\n",
    "print(len(y1))\n",
    "ax.plot(x1,y1,color = color_list[0])## graphed the N plot\n",
    "\n",
    "colorlist = zip(column_name,color_list)\n",
    "handles = [mpatches.Patch(color=colour, label=column_name) for label, colour in colorlist]\n",
    "t = \"# of channel vs. concentration relation\"\n",
    "#plt.legend(handles, column_name, ncol=1, bbox_to_anchor=(1, 1))\n",
    "plt.plot()\n",
    "plt.xlabel('time (ms)')\n",
    "plt.ylabel('# of Piezo channels')\n",
    "ax.set_title(t)\n",
    "plt.tight_layout()"
   ]
  }
 ],
 "metadata": {
  "kernelspec": {
   "display_name": "Python 3",
   "language": "python",
   "name": "python3"
  },
  "language_info": {
   "name": "python",
   "version": "3.10.10"
  },
  "orig_nbformat": 4
 },
 "nbformat": 4,
 "nbformat_minor": 2
}

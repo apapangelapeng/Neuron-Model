{
 "cells": [
  {
   "cell_type": "code",
   "execution_count": null,
   "metadata": {},
   "outputs": [],
   "source": [
    "import pandas as pd\n",
    "import numpy as np\n",
    "import matplotlib.pyplot as plt\n",
    "import matplotlib.patches as mpatches\n",
    "color_list =[\"#3eb991\",\"#6ecadc\",\"#e9a820\",\"#e01563\",\"#edb196\",\"#1f94ac\",\"#ae9a6a\",\"#ccb8a6\",\"#343a44\"]\n",
    "test_output = pd.DataFrame(pd.read_csv(\"../data_files/test_output.csv\"))\n",
    "\n",
    "test_output = test_output.transpose()\n",
    "test_output= test_output.reset_index(level=0)\n",
    "display(test_output)\n",
    "test_output = test_output.dropna()\n",
    "column_name = list(test_output.iloc[0])\n",
    "column_name = [ i.strip() for i in column_name]\n",
    "test_output = test_output.drop(index=0)\n",
    "test_output.columns = column_name\n",
    "test_output[\"Tau_n\"] = pd.to_numeric(test_output[\"Tau_n\"])\n",
    "display(test_output)"
   ]
  },
  {
   "attachments": {},
   "cell_type": "markdown",
   "metadata": {},
   "source": [
    "# Data Processing"
   ]
  },
  {
   "attachments": {},
   "cell_type": "markdown",
   "metadata": {},
   "source": [
    "# Graph 1\n",
    "(first 3)"
   ]
  },
  {
   "cell_type": "code",
   "execution_count": null,
   "metadata": {},
   "outputs": [],
   "source": [
    "first_3 =list(test_output.columns )[:3]\n",
    "fig, ax = plt.subplots()\n",
    "x = np.arange(-40, 101, step=1)\n",
    "\n",
    "for i in range(3):\n",
    "    label = first_3[i]\n",
    "    #ax.scatter(x,test_output[label],color = color_list[i])\n",
    "    ax.plot(x,test_output[label],color = color_list[i])\n",
    "    \n",
    "colorlist = zip(first_3,color_list)\n",
    "handles = [mpatches.Patch(color=colour, label=first_3) for label, colour in colorlist]\n",
    "t = \",\".join(first_3)\n",
    "plt.legend(handles, first_3, ncol=1, bbox_to_anchor=(1, 1))\n",
    "plt.plot()\n",
    "ax.set_title(t)\n",
    "plt.tight_layout()\n",
    "plt.savefig(f\"../graphs/{t}.png\")"
   ]
  },
  {
   "attachments": {},
   "cell_type": "markdown",
   "metadata": {},
   "source": [
    "# Graph 2"
   ]
  },
  {
   "cell_type": "code",
   "execution_count": null,
   "metadata": {},
   "outputs": [],
   "source": [
    "first_3 = list(test_output.columns)[3:3+3]\n",
    "fig, ax = plt.subplots()\n",
    "x = np.arange(-40, 101, step=1)\n",
    "print(x.shape)\n",
    "\n",
    "for i in range(3):\n",
    "    label = first_3[i]\n",
    "    #ax.scatter(x,test_output[label],color = color_list[i])\n",
    "    ax.plot(x,test_output[label],color = color_list[i])\n",
    "    \n",
    "colorlist = zip(first_3,color_list)\n",
    "handles = [mpatches.Patch(color=colour, label=first_3) for label, colour in colorlist]\n",
    "t = \",\".join(first_3)\n",
    "plt.legend(handles, first_3, ncol=1, bbox_to_anchor=(1, 1))\n",
    "plt.plot()\n",
    "ax.set_title(t)\n",
    "plt.tight_layout()\n",
    "plt.savefig(f\"../graphs/{t}.png\")"
   ]
  },
  {
   "attachments": {},
   "cell_type": "markdown",
   "metadata": {},
   "source": [
    "# Graph 6 Voltages"
   ]
  },
  {
   "cell_type": "code",
   "execution_count": null,
   "metadata": {},
   "outputs": [],
   "source": [
    "voltage = pd.DataFrame(pd.read_csv(\"../data_files/testV_output.csv\"))[:4]\n",
    "\n",
    "voltage = voltage.transpose().reset_index(level=0)\n",
    "\n",
    "\n",
    "column =list(voltage.iloc[0])\n",
    "column = [ i.strip() for i in column]\n",
    "voltage = voltage.dropna()\n",
    "voltage = voltage.drop(index=0)\n",
    "voltage.columns = column\n",
    "issue_col = list(voltage.columns)[0]\n",
    "\n",
    "voltage[issue_col] = pd.to_numeric(voltage[issue_col])\n",
    "\n",
    "#display(voltage) # this shows the voltage \n",
    "def graph_v_output(i, voltage):\n",
    "    first_3 =  [list(voltage.columns)[i]]\n",
    "    fig, ax = plt.subplots()\n",
    "    size = len(voltage)\n",
    "    x = np.arange(0,size/10, step=0.1)\n",
    "\n",
    "    for i in range(len(first_3)):\n",
    "        label = first_3[i]\n",
    "        #ax.scatter(x,test_output[label],color = color_list[i])\n",
    "        print(label)\n",
    "        ax.plot(x,voltage[label],color = color_list[i])\n",
    "        plt.xlabel('time (ms)')\n",
    "        plt.ylabel('voltage (mV)')\n",
    "\n",
    "        \n",
    "\n",
    "    colorlist = zip(first_3,color_list)\n",
    "    handles = [mpatches.Patch(color=colour, label=first_3) for label, colour in colorlist]\n",
    "    t = \",\".join(first_3)\n",
    "    ax.set_title(t)\n",
    "    plt.legend(handles, first_3, ncol=1, bbox_to_anchor=(1, 1))\n",
    "    plt.plot()\n",
    "    plt.tight_layout()\n",
    "    plt.savefig(f\"../graphs/{t}.png\")\n"
   ]
  },
  {
   "cell_type": "code",
   "execution_count": null,
   "metadata": {},
   "outputs": [],
   "source": [
    "graph_v_output(0, voltage)\n"
   ]
  },
  {
   "cell_type": "code",
   "execution_count": null,
   "metadata": {},
   "outputs": [],
   "source": [
    "first_3 =  list(voltage.columns)[1:]\n",
    "fig, ax = plt.subplots()\n",
    "size = len(voltage)\n",
    "x = np.arange(0,size/10, step=0.1)\n",
    "\n",
    "for i in range(len(first_3)):\n",
    "    label = first_3[i]\n",
    "    ax.plot(x,voltage[label],color = color_list[i])\n",
    "    plt.xlabel('time (ms)')\n",
    "    plt.ylabel('current (uA)')\n",
    "    \n",
    "\n",
    "colorlist = zip(first_3,color_list)\n",
    "handles = [mpatches.Patch(color=colour, label=first_3) for label, colour in colorlist]\n",
    "t = \",\".join(first_3)\n",
    "ax.set_title(t)\n",
    "plt.legend(handles, first_3, ncol=1, bbox_to_anchor=(1, 1))\n",
    "plt.plot()\n",
    "plt.tight_layout()\n",
    "plt.savefig(f\"../graphs/{t}.png\")"
   ]
  }
 ],
 "metadata": {
  "kernelspec": {
   "display_name": "Python 3",
   "language": "python",
   "name": "python3"
  },
  "language_info": {
   "codemirror_mode": {
    "name": "ipython",
    "version": 3
   },
   "file_extension": ".py",
   "mimetype": "text/x-python",
   "name": "python",
   "nbconvert_exporter": "python",
   "pygments_lexer": "ipython3",
   "version": "3.10.9 (tags/v3.10.9:1dd9be6, Dec  6 2022, 20:01:21) [MSC v.1934 64 bit (AMD64)]"
  },
  "orig_nbformat": 4,
  "vscode": {
   "interpreter": {
    "hash": "648f60def43ad773c8aa210172ef0fa19aae74bb5b04dd24715f3bb5fc884de2"
   }
  }
 },
 "nbformat": 4,
 "nbformat_minor": 2
}

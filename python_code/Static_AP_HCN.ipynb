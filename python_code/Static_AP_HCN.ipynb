{
 "cells": [
  {
   "cell_type": "code",
   "execution_count": null,
   "metadata": {},
   "outputs": [],
   "source": [
    "import pandas as pd\n",
    "import numpy as np\n",
    "import matplotlib.pyplot as plt\n",
    "import matplotlib.patches as mpatches\n",
    "color_list =[\"#3eb991\",\"#e9a820\",\"#e01563\",\"#edb196\",\"#6ecadc\",\"#1f94ac\",\"#ae9a6a\",\"#ccb8a6\",\"#343a44\"]"
   ]
  },
  {
   "attachments": {},
   "cell_type": "markdown",
   "metadata": {},
   "source": [
    "# Graphing Definition"
   ]
  },
  {
   "cell_type": "code",
   "execution_count": null,
   "metadata": {},
   "outputs": [],
   "source": [
    "def graph_df(data_frame:pd.DataFrame,begin_index=0,end_index=None):\n",
    "    if end_index:\n",
    "        column_name =list(data_frame.columns )[begin_index:end_index]\n",
    "    else:\n",
    "        column_name =list(data_frame.columns )[begin_index:]\n",
    "    fig, ax = plt.subplots()\n",
    "    x = np.arange(0, len(data_frame)/1000, step=1/1000)\n",
    "\n",
    "    for i in range(len(column_name)):\n",
    "        label = column_name[i]\n",
    "        #ax.scatter(x,test_output[label],color = color_list[i])\n",
    "        ax.plot(x,data_frame[label],color = color_list[i])\n",
    "        ax.set_xlabel('time (ms)')\n",
    "        ax.set_ylabel('voltage (mV)')\n",
    "        \n",
    "    colorlist = zip(column_name,color_list)\n",
    "    handles = [mpatches.Patch(color=colour, label=column_name) for label, colour in colorlist]\n",
    "    t = \",\".join(column_name)\n",
    "    plt.legend(handles, column_name, ncol=1, bbox_to_anchor=(1, 1))\n",
    "    plt.plot()\n",
    "    ax.set_title(t)\n",
    "    plt.tight_layout()\n",
    "\n",
    "def graph_df2(data_frame:pd.DataFrame,begin_index=0,end_index=None):\n",
    "    if end_index:\n",
    "        column_name =list(data_frame.columns )[begin_index:end_index]\n",
    "    else:\n",
    "        column_name =list(data_frame.columns )[begin_index:]\n",
    "    fig, ax = plt.subplots()\n",
    "    x = np.arange(0, len(data_frame)/1000, step=1/1000)\n",
    "\n",
    "    for i in range(len(column_name)):\n",
    "        label = column_name[i]\n",
    "        #ax.scatter(x,test_output[label],color = color_list[i])\n",
    "        ax.plot(x,data_frame[label],color = color_list[i])\n",
    "        ax.set_xlabel('time (ms)')\n",
    "        ax.set_ylabel('current (uA)')\n",
    "        \n",
    "    colorlist = zip(column_name,color_list)\n",
    "    handles = [mpatches.Patch(color=colour, label=column_name) for label, colour in colorlist]\n",
    "    t = \",\".join(column_name)\n",
    "    plt.legend(handles, column_name, ncol=1, bbox_to_anchor=(1, 1))\n",
    "    plt.plot()\n",
    "    ax.set_title(t)\n",
    "    plt.tight_layout()\n"
   ]
  },
  {
   "attachments": {},
   "cell_type": "markdown",
   "metadata": {},
   "source": [
    "# Static Graph"
   ]
  },
  {
   "cell_type": "code",
   "execution_count": null,
   "metadata": {},
   "outputs": [],
   "source": [
    "static_ap_df = pd.DataFrame(pd.read_csv(\"../data_files/testWT_output.csv\"))\n",
    "#display(static_ap_df)\n",
    "graph_df(static_ap_df,0,1)"
   ]
  },
  {
   "cell_type": "code",
   "execution_count": null,
   "metadata": {},
   "outputs": [],
   "source": [
    "static_ap_df = pd.DataFrame(pd.read_csv(\"../data_files/testWT_output.csv\"))\n",
    "#display(static_ap_df)\n",
    "graph_df2(static_ap_df,1,len(static_ap_df))"
   ]
  },
  {
   "attachments": {},
   "cell_type": "markdown",
   "metadata": {},
   "source": [
    "# HCN Addition"
   ]
  },
  {
   "cell_type": "code",
   "execution_count": null,
   "metadata": {},
   "outputs": [],
   "source": [
    "static_ap_df = pd.DataFrame(pd.read_csv(\"../data_files/testHCN_output.csv\"))\n",
    "#isplay(static_ap_df)\n",
    "graph_df(static_ap_df,0,1)"
   ]
  },
  {
   "cell_type": "code",
   "execution_count": null,
   "metadata": {},
   "outputs": [],
   "source": [
    "static_ap_df = pd.DataFrame(pd.read_csv(\"../data_files/testHCN_output.csv\"))\n",
    "#display(static_ap_df)\n",
    "graph_df2(static_ap_df,1,len(static_ap_df))"
   ]
  },
  {
   "cell_type": "code",
   "execution_count": null,
   "metadata": {},
   "outputs": [],
   "source": [
    "static_ap_df = pd.DataFrame(pd.read_csv(\"../data_files/testVcompare_output.csv\"))\n",
    "#display(static_ap_df)\n",
    "graph_df(static_ap_df,0,4)"
   ]
  },
  {
   "cell_type": "code",
   "execution_count": null,
   "metadata": {},
   "outputs": [],
   "source": [
    "static_ap_df = pd.DataFrame(pd.read_csv(\"../data_files/testVcompare_output.csv\"))\n",
    "#display(static_ap_df)\n",
    "graph_df2(static_ap_df,4,7)"
   ]
  }
 ],
 "metadata": {
  "kernelspec": {
   "display_name": "Python 3",
   "language": "python",
   "name": "python3"
  },
  "language_info": {
   "codemirror_mode": {
    "name": "ipython",
    "version": 3
   },
   "file_extension": ".py",
   "mimetype": "text/x-python",
   "name": "python",
   "nbconvert_exporter": "python",
   "pygments_lexer": "ipython3",
   "version": "3.10.9 (tags/v3.10.9:1dd9be6, Dec  6 2022, 20:01:21) [MSC v.1934 64 bit (AMD64)]"
  },
  "orig_nbformat": 4,
  "vscode": {
   "interpreter": {
    "hash": "648f60def43ad773c8aa210172ef0fa19aae74bb5b04dd24715f3bb5fc884de2"
   }
  }
 },
 "nbformat": 4,
 "nbformat_minor": 2
}

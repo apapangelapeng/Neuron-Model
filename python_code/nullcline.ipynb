{
 "cells": [
  {
   "cell_type": "code",
   "execution_count": null,
   "metadata": {},
   "outputs": [],
   "source": [
    "\n",
    "import pandas as pd\n",
    "import numpy as np\n",
    "import matplotlib.pyplot as plt\n",
    "import matplotlib.patches as mpatches\n",
    "color_list =[\"#3eb991\",\"#e9a820\",\"#e01563\",\"#edb196\",\"#6ecadc\",\"#1f94ac\",\"#ae9a6a\",\"#ccb8a6\",\"#343a44\"]"
   ]
  },
  {
   "cell_type": "code",
   "execution_count": null,
   "metadata": {},
   "outputs": [],
   "source": [
    "null_df = pd.DataFrame(pd.read_csv(\"../data_files/nullcline_output.csv\"))\n",
    "meta_nul = pd.DataFrame(pd.read_csv(\"../data_files/nullcline_metadata.csv\"))\n",
    "#display(null_df)"
   ]
  },
  {
   "attachments": {},
   "cell_type": "markdown",
   "metadata": {},
   "source": [
    "# Parse Metadata"
   ]
  },
  {
   "cell_type": "code",
   "execution_count": null,
   "metadata": {},
   "outputs": [],
   "source": [
    "\n",
    "display(meta_nul)\n",
    "local_v_start=float(meta_nul[\"local_v_start\"])\n",
    "local_v_end=float(meta_nul[\"local_v_end\"])\n",
    "v_step=float(meta_nul[\"v_step\"])\n",
    "local_n_start=float(meta_nul[\"local_n_start\"])\n",
    "local_n_end=float(meta_nul[\"local_n_end\"])\n",
    "n_step=float(meta_nul[\"n_step\"])\n"
   ]
  },
  {
   "cell_type": "code",
   "execution_count": null,
   "metadata": {},
   "outputs": [],
   "source": [
    "fig, ax = plt.subplots()\n",
    "x1 = np.arange(local_v_start,local_v_end + 2*v_step,step=v_step)#depends on the for loop\n",
    "\n",
    "\n",
    "label= column_name= [\"N\",\"V\",\"dv/dt_zero\"]\n",
    "y1 = null_df[\"N\"].dropna()\n",
    "print(len(y1))\n",
    "ax.plot(x1,y1,color = color_list[0])## graphed the N plot\n",
    "\n",
    "x2 =  null_df[\"V\"].dropna()\n",
    "y2=  np.arange(local_n_start-n_step,local_n_end,step=n_step)\n",
    "ax.plot(x2,y2,color = color_list[1])## graphed the V plot\n",
    "\n",
    "x3 =  null_df[\"V_dn_0\"].dropna()\n",
    "y3 = null_df[\"N_dn_0\"].dropna()\n",
    "\n",
    "y3_pred = np.polyfit(x3, y3, deg=3)\n",
    "#ax.plot(x3,np.polyval(y3_pred, x3),color = color_list[2]) \n",
    "\n",
    "x4 =  null_df[\"V_dv_0\"].dropna()\n",
    "y4 = null_df[\"N_dv_0\"].dropna()\n",
    "y4_pred =  np.polyfit(x4, y4, deg=3)\n",
    "ax.plot(x4,np.polyval(y4_pred, x4),color = color_list[2]) \n",
    "\n",
    "x5 = null_df[\"Vdt\"].dropna().to_numpy() \n",
    "y5 =  null_df[\"Ndt\"].dropna().to_numpy()\n",
    "\n",
    "x6 = null_df[\"V_x_dt\"].dropna().to_numpy() \n",
    "y6 =  null_df[\"N_y_dt\"].dropna().to_numpy()\n",
    "\n",
    "\n",
    "\n",
    "u = x5/np.sqrt(x5**2 + y5**2)\n",
    "v = y5/np.sqrt(x5**2 + y5**2)\n",
    "\n",
    "plt.quiver(x6,y6,u,v)\n",
    "\n",
    "colorlist = zip(column_name,color_list)\n",
    "handles = [mpatches.Patch(color=colour, label=column_name) for label, colour in colorlist]\n",
    "t = \"Nullcline\"\n",
    "plt.legend(handles, column_name, ncol=1, bbox_to_anchor=(1, 1))\n",
    "plt.plot()\n",
    "plt.xlabel('voltage (v)')\n",
    "plt.ylabel('blocking (n)')\n",
    "ax.set_title(t)\n",
    "plt.tight_layout()"
   ]
  }
 ],
 "metadata": {
  "kernelspec": {
   "display_name": "Python 3",
   "language": "python",
   "name": "python3"
  },
  "language_info": {
   "codemirror_mode": {
    "name": "ipython",
    "version": 3
   },
   "file_extension": ".py",
   "mimetype": "text/x-python",
   "name": "python",
   "nbconvert_exporter": "python",
   "pygments_lexer": "ipython3",
   "version": "3.10.9"
  },
  "orig_nbformat": 4,
  "vscode": {
   "interpreter": {
    "hash": "648f60def43ad773c8aa210172ef0fa19aae74bb5b04dd24715f3bb5fc884de2"
   }
  }
 },
 "nbformat": 4,
 "nbformat_minor": 2
}
